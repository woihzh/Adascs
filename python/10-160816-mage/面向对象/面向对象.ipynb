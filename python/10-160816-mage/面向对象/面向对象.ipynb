{
 "cells": [
  {
   "cell_type": "markdown",
   "metadata": {},
   "source": [
    "面向对象是一种编程范式  \n",
    "范式可以认为是一组方法论  \n",
    "编程范式 一组如何代码的方法论  \n",
    "主流的编程范式： PP IP FP LP OOP AOP  "
   ]
  },
  {
   "cell_type": "markdown",
   "metadata": {},
   "source": [
    "## python 面向对象编程"
   ]
  },
  {
   "cell_type": "markdown",
   "metadata": {},
   "source": [
    "### 静态方法"
   ]
  },
  {
   "cell_type": "code",
   "execution_count": 41,
   "metadata": {},
   "outputs": [
    {
     "name": "stdout",
     "output_type": "stream",
     "text": [
      "----  is eat food: None\n",
      "++++ jingan is eating baozi\n"
     ]
    }
   ],
   "source": [
    "class Dog(object):\n",
    "    def __init__(self, name):\n",
    "        self.name = name\n",
    "        self.__food = None\n",
    "\n",
    "        \n",
    "    @property\n",
    "    def eat(self):\n",
    "        print('++++ {} is eating {}'.format(self.name, self.__food))\n",
    "\n",
    "        \n",
    "    @eat.setter\n",
    "    def eat(self, food):\n",
    "        print('----  is eat food: {}'.format(self.__food))\n",
    "        self.__food = food\n",
    "       \n",
    "    @eat.deleter\n",
    "    def eat(self):\n",
    "        del self.__food\n",
    "        print('删完了...')\n",
    "\n",
    "\n",
    "d = Dog('jingan')\n",
    "# d.eat()  # TypeError: 'NoneType' object is not callable\n",
    "d.eat = 'baozi'\n",
    "d.eat\n"
   ]
  },
  {
   "cell_type": "code",
   "execution_count": 39,
   "metadata": {},
   "outputs": [
    {
     "name": "stdout",
     "output_type": "stream",
     "text": [
      "jingan is eatiing\n"
     ]
    }
   ],
   "source": [
    "class Dog(object):\n",
    "    name = 'jingan'\n",
    "    def __init__(self, name):\n",
    "        self.name = name\n",
    "\n",
    "    @classmethod\n",
    "    def eat(self):\n",
    "        print('%s is eatiing' % self.name)\n",
    "\n",
    "dog = Dog('kk')\n",
    "dog.eat()"
   ]
  },
  {
   "cell_type": "markdown",
   "metadata": {},
   "source": [
    "### 反射"
   ]
  },
  {
   "cell_type": "code",
   "execution_count": null,
   "metadata": {},
   "outputs": [],
   "source": [
    "class Dog(object):\n",
    "    def __init__(self, name):\n",
    "        self.name = name\n",
    "        \n",
    "    def eat(self):\n",
    "        print('{} is eating'.format(self.name))\n",
    "\n",
    "d = Dog('jingan')\n",
    "\n",
    "choice = input('>> ').strip()\n",
    "#if choice == 'eat':  # 那如果有500个方法呢？\n",
    "#    d.eat()\n",
    "\n",
    "hasattr(d, choice)  # ture / flase\n",
    "\n",
    "getattr(d, choice)()\n"
   ]
  },
  {
   "cell_type": "code",
   "execution_count": null,
   "metadata": {},
   "outputs": [],
   "source": []
  }
 ],
 "metadata": {
  "kernelspec": {
   "display_name": "Python 3",
   "language": "python",
   "name": "python3"
  },
  "language_info": {
   "codemirror_mode": {
    "name": "ipython",
    "version": 3
   },
   "file_extension": ".py",
   "mimetype": "text/x-python",
   "name": "python",
   "nbconvert_exporter": "python",
   "pygments_lexer": "ipython3",
   "version": "3.6.3"
  }
 },
 "nbformat": 4,
 "nbformat_minor": 2
}

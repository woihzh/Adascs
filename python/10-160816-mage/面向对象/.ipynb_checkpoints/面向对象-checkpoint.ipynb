{
 "cells": [
  {
   "cell_type": "markdown",
   "metadata": {},
   "source": [
    "面向对象是一种编程范式\n",
    "范式可以认为是一组方法论\n",
    "编程范式 一组如何代码的方法论\n",
    "主流的编程范式： PP IP FP LP OOP AOP"
   ]
  },
  {
   "cell_type": "markdown",
   "metadata": {},
   "source": [
    "## python 面向对象编程"
   ]
  },
  {
   "cell_type": "code",
   "execution_count": 20,
   "metadata": {},
   "outputs": [
    {
     "name": "stdout",
     "output_type": "stream",
     "text": [
      "++++ jingan is eating baozi\n",
      "----  is eat food: None\n",
      "++++ jingan is eating baozi\n"
     ]
    }
   ],
   "source": [
    "class Dog(object):\n",
    "    def __init__(self, name):\n",
    "        self.name = name\n",
    "        self.__food = None\n",
    "\n",
    "        \n",
    "    @property\n",
    "    def eat(self):\n",
    "        print('++++ {} is eating {}'.format(self.name, 'baozi'))\n",
    "\n",
    "    @eat.setter\n",
    "    def eat(self, food):\n",
    "        print('----  is eat food: {}'.format(self.__food))\n",
    "\n",
    "d = Dog('jingan')\n",
    "# d.eat()  # TypeError: 'NoneType' object is not callable\n",
    "\n",
    "d.eat = 'baozi'\n",
    "\n",
    "\n",
    "d.eat # jingan is eating dd\n",
    "\n"
   ]
  },
  {
   "cell_type": "code",
   "execution_count": null,
   "metadata": {},
   "outputs": [],
   "source": []
  },
  {
   "cell_type": "code",
   "execution_count": null,
   "metadata": {},
   "outputs": [],
   "source": []
  }
 ],
 "metadata": {
  "kernelspec": {
   "display_name": "Python 3",
   "language": "python",
   "name": "python3"
  },
  "language_info": {
   "codemirror_mode": {
    "name": "ipython",
    "version": 3
   },
   "file_extension": ".py",
   "mimetype": "text/x-python",
   "name": "python",
   "nbconvert_exporter": "python",
   "pygments_lexer": "ipython3",
   "version": "3.6.3"
  }
 },
 "nbformat": 4,
 "nbformat_minor": 2
}

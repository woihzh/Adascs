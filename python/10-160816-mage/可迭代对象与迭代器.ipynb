{
 "cells": [
  {
   "cell_type": "code",
   "execution_count": null,
   "metadata": {},
   "outputs": [],
   "source": [
    "r = range(5)\n",
    "r.__iter__"
   ]
  },
  {
   "cell_type": "code",
   "execution_count": null,
   "metadata": {},
   "outputs": [],
   "source": [
    "有__iter__的对象，可以称为可迭代对象"
   ]
  },
  {
   "cell_type": "markdown",
   "metadata": {},
   "source": [
    "for n in range(3):\n",
    "    pass\n",
    "\n",
    "for in 语句要求一个可迭代对象"
   ]
  },
  {
   "cell_type": "markdown",
   "metadata": {},
   "source": [
    "### 迭代器"
   ]
  },
  {
   "cell_type": "markdown",
   "metadata": {},
   "source": [
    "迭代器是可迭代对象;  \n",
    "有 __next__ 方法的可迭代对象叫 迭代器"
   ]
  },
  {
   "cell_type": "markdown",
   "metadata": {},
   "source": [
    "it = iter(range(10))\n",
    "it.__next__"
   ]
  },
  {
   "cell_type": "markdown",
   "metadata": {},
   "source": [
    "可迭代对象可转换成迭代器\n",
    "iter函数就可以将一个可迭代对象转换成迭代器\n",
    "next函数可以从迭代器里取出下一个元素"
   ]
  },
  {
   "cell_type": "code",
   "execution_count": 6,
   "metadata": {},
   "outputs": [
    {
     "data": {
      "text/plain": [
       "0"
      ]
     },
     "execution_count": 6,
     "metadata": {},
     "output_type": "execute_result"
    }
   ],
   "source": [
    "next(iter(range(10)))"
   ]
  },
  {
   "cell_type": "markdown",
   "metadata": {},
   "source": [
    "调用next函数的时候，会返回当前元素，并把指针指向下一个元素\n",
    "当没有下一个元素时，会抛出Stopiteration异常"
   ]
  },
  {
   "cell_type": "code",
   "execution_count": 9,
   "metadata": {},
   "outputs": [],
   "source": [
    "lst = [['m', 1, 2, 3, 4], ['age', 0, 1, 2, 3]]"
   ]
  },
  {
   "cell_type": "code",
   "execution_count": 19,
   "metadata": {},
   "outputs": [
    {
     "name": "stdout",
     "output_type": "stream",
     "text": [
      "m\n",
      "['m', 1, 2, 3, 4]\n",
      "['m', 1, 2, 3, 4]\n",
      "['m', 1, 2, 3, 4]\n",
      "['m', 1, 2, 3, 4]\n",
      "['m', 1, 2, 3, 4]\n",
      "age\n",
      "['age', 0, 1, 2, 3]\n",
      "['age', 0, 1, 2, 3]\n",
      "['age', 0, 1, 2, 3]\n",
      "['age', 0, 1, 2, 3]\n",
      "['age', 0, 1, 2, 3]\n"
     ]
    }
   ],
   "source": [
    "for x in lst:\n",
    "    key = x[0]\n",
    "    print(key)\n",
    "    for v in x[:]:\n",
    "        print(x)"
   ]
  },
  {
   "cell_type": "code",
   "execution_count": 21,
   "metadata": {},
   "outputs": [
    {
     "name": "stdout",
     "output_type": "stream",
     "text": [
      "m\n",
      "<class 'list_iterator'>\n",
      "1\n",
      "2\n",
      "3\n",
      "4\n",
      "age\n",
      "<class 'list_iterator'>\n",
      "0\n",
      "1\n",
      "2\n",
      "3\n"
     ]
    }
   ],
   "source": [
    "for x in lst:\n",
    "    it = iter(x)\n",
    "    key = next(it)\n",
    "    print(key)\n",
    "    print(type(it))\n",
    "    for v in it:\n",
    "        print(v)"
   ]
  },
  {
   "cell_type": "markdown",
   "metadata": {},
   "source": [
    "for in 循环对于可迭代对象： 首先调用iter方法转换成迭代器，然后不断调用next方法，直到抛出Stopiteration异常"
   ]
  }
 ],
 "metadata": {
  "kernelspec": {
   "display_name": "Python 3",
   "language": "python",
   "name": "python3"
  },
  "language_info": {
   "codemirror_mode": {
    "name": "ipython",
    "version": 3
   },
   "file_extension": ".py",
   "mimetype": "text/x-python",
   "name": "python",
   "nbconvert_exporter": "python",
   "pygments_lexer": "ipython3",
   "version": "3.6.3"
  }
 },
 "nbformat": 4,
 "nbformat_minor": 2
}

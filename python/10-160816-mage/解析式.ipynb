{
 "cells": [
  {
   "cell_type": "code",
   "execution_count": 2,
   "metadata": {},
   "outputs": [
    {
     "data": {
      "text/plain": [
       "[0, 1, 4, 9, 16, 25, 36, 49, 64, 81]"
      ]
     },
     "execution_count": 2,
     "metadata": {},
     "output_type": "execute_result"
    }
   ],
   "source": [
    "# 对一列表所有的数值求平方\n",
    "[n ** 2 for n in range(10)]"
   ]
  },
  {
   "cell_type": "markdown",
   "metadata": {},
   "source": [
    "### 列表解析"
   ]
  },
  {
   "cell_type": "markdown",
   "metadata": {},
   "source": [
    "```python\n",
    "1. [expr for n in iterator]\n",
    "2. [expr for n in iterator if cond]\n",
    "```"
   ]
  },
  {
   "cell_type": "code",
   "execution_count": 6,
   "metadata": {},
   "outputs": [
    {
     "data": {
      "text/plain": [
       "[0, 2, 4, 6, 8]"
      ]
     },
     "execution_count": 6,
     "metadata": {},
     "output_type": "execute_result"
    }
   ],
   "source": [
    "[n for n in range(10) if n % 2  == 0]"
   ]
  },
  {
   "cell_type": "code",
   "execution_count": 13,
   "metadata": {},
   "outputs": [
    {
     "data": {
      "text/plain": [
       "[6, 8]"
      ]
     },
     "execution_count": 13,
     "metadata": {},
     "output_type": "execute_result"
    }
   ],
   "source": [
    "[n for n in range(10) if n > 5 if n % 2 == 0]  # 可以带多个 if 语句"
   ]
  },
  {
   "cell_type": "code",
   "execution_count": 17,
   "metadata": {},
   "outputs": [
    {
     "data": {
      "text/plain": [
       "[4, 6]"
      ]
     },
     "execution_count": 17,
     "metadata": {},
     "output_type": "execute_result"
    }
   ],
   "source": [
    "[n for n in range(10) if n > 2 and n < 8 if n % 2 == 0] "
   ]
  },
  {
   "cell_type": "code",
   "execution_count": 20,
   "metadata": {},
   "outputs": [
    {
     "data": {
      "text/plain": [
       "[(0, 5, 10),\n",
       " (0, 5, 11),\n",
       " (0, 5, 12),\n",
       " (0, 5, 13),\n",
       " (0, 5, 14),\n",
       " (0, 6, 10),\n",
       " (0, 6, 11),\n",
       " (0, 6, 12),\n",
       " (0, 6, 13),\n",
       " (0, 6, 14),\n",
       " (0, 7, 10),\n",
       " (0, 7, 11),\n",
       " (0, 7, 12),\n",
       " (0, 7, 13),\n",
       " (0, 7, 14),\n",
       " (0, 8, 10),\n",
       " (0, 8, 11),\n",
       " (0, 8, 12),\n",
       " (0, 8, 13),\n",
       " (0, 8, 14),\n",
       " (0, 9, 10),\n",
       " (0, 9, 11),\n",
       " (0, 9, 12),\n",
       " (0, 9, 13),\n",
       " (0, 9, 14),\n",
       " (1, 5, 10),\n",
       " (1, 5, 11),\n",
       " (1, 5, 12),\n",
       " (1, 5, 13),\n",
       " (1, 5, 14),\n",
       " (1, 6, 10),\n",
       " (1, 6, 11),\n",
       " (1, 6, 12),\n",
       " (1, 6, 13),\n",
       " (1, 6, 14),\n",
       " (1, 7, 10),\n",
       " (1, 7, 11),\n",
       " (1, 7, 12),\n",
       " (1, 7, 13),\n",
       " (1, 7, 14),\n",
       " (1, 8, 10),\n",
       " (1, 8, 11),\n",
       " (1, 8, 12),\n",
       " (1, 8, 13),\n",
       " (1, 8, 14),\n",
       " (1, 9, 10),\n",
       " (1, 9, 11),\n",
       " (1, 9, 12),\n",
       " (1, 9, 13),\n",
       " (1, 9, 14),\n",
       " (2, 5, 10),\n",
       " (2, 5, 11),\n",
       " (2, 5, 12),\n",
       " (2, 5, 13),\n",
       " (2, 5, 14),\n",
       " (2, 6, 10),\n",
       " (2, 6, 11),\n",
       " (2, 6, 12),\n",
       " (2, 6, 13),\n",
       " (2, 6, 14),\n",
       " (2, 7, 10),\n",
       " (2, 7, 11),\n",
       " (2, 7, 12),\n",
       " (2, 7, 13),\n",
       " (2, 7, 14),\n",
       " (2, 8, 10),\n",
       " (2, 8, 11),\n",
       " (2, 8, 12),\n",
       " (2, 8, 13),\n",
       " (2, 8, 14),\n",
       " (2, 9, 10),\n",
       " (2, 9, 11),\n",
       " (2, 9, 12),\n",
       " (2, 9, 13),\n",
       " (2, 9, 14),\n",
       " (3, 5, 10),\n",
       " (3, 5, 11),\n",
       " (3, 5, 12),\n",
       " (3, 5, 13),\n",
       " (3, 5, 14),\n",
       " (3, 6, 10),\n",
       " (3, 6, 11),\n",
       " (3, 6, 12),\n",
       " (3, 6, 13),\n",
       " (3, 6, 14),\n",
       " (3, 7, 10),\n",
       " (3, 7, 11),\n",
       " (3, 7, 12),\n",
       " (3, 7, 13),\n",
       " (3, 7, 14),\n",
       " (3, 8, 10),\n",
       " (3, 8, 11),\n",
       " (3, 8, 12),\n",
       " (3, 8, 13),\n",
       " (3, 8, 14),\n",
       " (3, 9, 10),\n",
       " (3, 9, 11),\n",
       " (3, 9, 12),\n",
       " (3, 9, 13),\n",
       " (3, 9, 14),\n",
       " (4, 5, 10),\n",
       " (4, 5, 11),\n",
       " (4, 5, 12),\n",
       " (4, 5, 13),\n",
       " (4, 5, 14),\n",
       " (4, 6, 10),\n",
       " (4, 6, 11),\n",
       " (4, 6, 12),\n",
       " (4, 6, 13),\n",
       " (4, 6, 14),\n",
       " (4, 7, 10),\n",
       " (4, 7, 11),\n",
       " (4, 7, 12),\n",
       " (4, 7, 13),\n",
       " (4, 7, 14),\n",
       " (4, 8, 10),\n",
       " (4, 8, 11),\n",
       " (4, 8, 12),\n",
       " (4, 8, 13),\n",
       " (4, 8, 14),\n",
       " (4, 9, 10),\n",
       " (4, 9, 11),\n",
       " (4, 9, 12),\n",
       " (4, 9, 13),\n",
       " (4, 9, 14)]"
      ]
     },
     "execution_count": 20,
     "metadata": {},
     "output_type": "execute_result"
    }
   ],
   "source": [
    "[(x, y, z) for x in range(5) for y in range(5,10) for z in range(10, 15)]"
   ]
  },
  {
   "cell_type": "code",
   "execution_count": 22,
   "metadata": {},
   "outputs": [
    {
     "data": {
      "text/plain": [
       "[0, 1, 2, 3, 4, 5, 6, 7, 8, 9]"
      ]
     },
     "execution_count": 22,
     "metadata": {},
     "output_type": "execute_result"
    }
   ],
   "source": [
    "[x for x in [y for y in range(10)]]"
   ]
  },
  {
   "cell_type": "code",
   "execution_count": 38,
   "metadata": {},
   "outputs": [
    {
     "data": {
      "text/plain": [
       "[0, 1, 4, 27, 16, 125, 36, 343, 64, 729]"
      ]
     },
     "execution_count": 38,
     "metadata": {},
     "output_type": "execute_result"
    }
   ],
   "source": [
    "# 偶数求平方， 奇数求立方\n",
    "[x ** 2 if x % 2 == 0 else x ** 3  for x in range(10)]"
   ]
  },
  {
   "cell_type": "markdown",
   "metadata": {},
   "source": [
    "### 生成器解析"
   ]
  },
  {
   "cell_type": "markdown",
   "metadata": {},
   "source": [
    "列表解析返回的是列表；生成器解析是列表解析的中括号变成小括号(); 生成器解析式返回的是一个生成器"
   ]
  },
  {
   "cell_type": "code",
   "execution_count": 46,
   "metadata": {},
   "outputs": [
    {
     "data": {
      "text/plain": [
       "9"
      ]
     },
     "execution_count": 46,
     "metadata": {},
     "output_type": "execute_result"
    }
   ],
   "source": [
    "g = (x for n in range(10))\n",
    "next(g)"
   ]
  },
  {
   "cell_type": "markdown",
   "metadata": {},
   "source": [
    "什么时候用生产器解析和生成器解析?  \n",
    "需要用下标访问的时候用列表解析，只需要对结果迭代的时候，优先使用生成器解析"
   ]
  },
  {
   "cell_type": "markdown",
   "metadata": {},
   "source": [
    "### 集合解析"
   ]
  },
  {
   "cell_type": "code",
   "execution_count": 50,
   "metadata": {},
   "outputs": [
    {
     "data": {
      "text/plain": [
       "{0, 1, 2, 3, 4, 5, 6, 7, 8, 9}"
      ]
     },
     "execution_count": 50,
     "metadata": {},
     "output_type": "execute_result"
    }
   ],
   "source": [
    "s = {x for x in range(10)}\n",
    "s"
   ]
  },
  {
   "cell_type": "markdown",
   "metadata": {},
   "source": [
    "### 字典解析"
   ]
  },
  {
   "cell_type": "code",
   "execution_count": 51,
   "metadata": {},
   "outputs": [
    {
     "data": {
      "text/plain": [
       "{'0': 0,\n",
       " '1': 1,\n",
       " '2': 2,\n",
       " '3': 3,\n",
       " '4': 4,\n",
       " '5': 5,\n",
       " '6': 6,\n",
       " '7': 7,\n",
       " '8': 8,\n",
       " '9': 9}"
      ]
     },
     "execution_count": 51,
     "metadata": {},
     "output_type": "execute_result"
    }
   ],
   "source": [
    "{str(x):x for x in range(10)}"
   ]
  }
 ],
 "metadata": {
  "kernelspec": {
   "display_name": "Python 3",
   "language": "python",
   "name": "python3"
  },
  "language_info": {
   "codemirror_mode": {
    "name": "ipython",
    "version": 3
   },
   "file_extension": ".py",
   "mimetype": "text/x-python",
   "name": "python",
   "nbconvert_exporter": "python",
   "pygments_lexer": "ipython3",
   "version": "3.6.3"
  }
 },
 "nbformat": 4,
 "nbformat_minor": 2
}

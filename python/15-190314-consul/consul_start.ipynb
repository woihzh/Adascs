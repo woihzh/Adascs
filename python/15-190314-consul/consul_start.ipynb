{
 "cells": [
  {
   "cell_type": "code",
   "execution_count": 63,
   "metadata": {
    "scrolled": false
   },
   "outputs": [
    {
     "name": "stdout",
     "output_type": "stream",
     "text": [
      "Help on Catalog in module consul.base object:\n",
      "\n",
      "class Catalog(builtins.object)\n",
      " |  Methods defined here:\n",
      " |  \n",
      " |  __init__(self, agent)\n",
      " |      Initialize self.  See help(type(self)) for accurate signature.\n",
      " |  \n",
      " |  datacenters(self)\n",
      " |      Returns all the datacenters that are known by the Consul server.\n",
      " |  \n",
      " |  deregister(self, node, service_id=None, check_id=None, dc=None, token=None)\n",
      " |      A low level mechanism for directly removing entries in the catalog.\n",
      " |      It is usually recommended to use the agent APIs, as they are\n",
      " |      simpler and perform anti-entropy.\n",
      " |      \n",
      " |      *node* and *dc* specify which node on which datacenter to remove.\n",
      " |      If *service_id* and *check_id* are not provided, all associated\n",
      " |      services and checks are deleted. Otherwise only one of *service_id*\n",
      " |      and *check_id* should be provided and only that service or check\n",
      " |      will be removed.\n",
      " |      \n",
      " |      *token* is an optional `ACL token`_ to apply to this request.\n",
      " |      \n",
      " |      Returns *True* on success.\n",
      " |  \n",
      " |  node(self, node, index=None, wait=None, consistency=None, dc=None, token=None)\n",
      " |      Returns a tuple of (*index*, *services*) of all services provided\n",
      " |      by *node*.\n",
      " |      \n",
      " |      *index* is the current Consul index, suitable for making subsequent\n",
      " |      calls to wait for changes since this query was last run.\n",
      " |      \n",
      " |      *wait* the maximum duration to wait (e.g. '10s') to retrieve\n",
      " |      a given index. this parameter is only applied if *index* is also\n",
      " |      specified. the wait time by default is 5 minutes.\n",
      " |      \n",
      " |      *consistency* can be either 'default', 'consistent' or 'stale'. if\n",
      " |      not specified *consistency* will the consistency level this client\n",
      " |      was configured with.\n",
      " |      \n",
      " |      *dc* is the datacenter of the node and defaults to this agents\n",
      " |      datacenter.\n",
      " |      \n",
      " |      *token* is an optional `ACL token`_ to apply to this request.\n",
      " |      \n",
      " |      The response looks like this::\n",
      " |      \n",
      " |          (index, {\n",
      " |              \"Node\": {\n",
      " |                  \"Node\": \"foobar\",\n",
      " |                  \"Address\": \"10.1.10.12\"\n",
      " |              },\n",
      " |              \"Services\": {\n",
      " |                  \"consul\": {\n",
      " |                      \"ID\": \"consul\",\n",
      " |                      \"Service\": \"consul\",\n",
      " |                      \"Tags\": null,\n",
      " |                      \"Port\": 8300\n",
      " |                  },\n",
      " |                  \"redis\": {\n",
      " |                      \"ID\": \"redis\",\n",
      " |                      \"Service\": \"redis\",\n",
      " |                      \"Tags\": [\n",
      " |                          \"v1\"\n",
      " |                      ],\n",
      " |                      \"Port\": 8000\n",
      " |                  }\n",
      " |              }\n",
      " |          })\n",
      " |  \n",
      " |  nodes(self, index=None, wait=None, consistency=None, dc=None, near=None, token=None, node_meta=None)\n",
      " |      Returns a tuple of (*index*, *nodes*) of all nodes known\n",
      " |      about in the *dc* datacenter. *dc* defaults to the current\n",
      " |      datacenter of this agent.\n",
      " |      \n",
      " |      *index* is the current Consul index, suitable for making subsequent\n",
      " |      calls to wait for changes since this query was last run.\n",
      " |      \n",
      " |      *wait* the maximum duration to wait (e.g. '10s') to retrieve\n",
      " |      a given index. this parameter is only applied if *index* is also\n",
      " |      specified. the wait time by default is 5 minutes.\n",
      " |      \n",
      " |      *near* is a node name to sort the resulting list in ascending\n",
      " |      order based on the estimated round trip time from that node\n",
      " |      \n",
      " |      *consistency* can be either 'default', 'consistent' or 'stale'. if\n",
      " |      not specified *consistency* will the consistency level this client\n",
      " |      was configured with.\n",
      " |      \n",
      " |      *token* is an optional `ACL token`_ to apply to this request.\n",
      " |      \n",
      " |      *node_meta* is an optional meta data used for filtering, a\n",
      " |      dictionary formatted as {k1:v1, k2:v2}.\n",
      " |      \n",
      " |      The response looks like this::\n",
      " |      \n",
      " |          (index, [\n",
      " |              {\n",
      " |                  \"Node\": \"baz\",\n",
      " |                  \"Address\": \"10.1.10.11\"\n",
      " |              },\n",
      " |              {\n",
      " |                  \"Node\": \"foobar\",\n",
      " |                  \"Address\": \"10.1.10.12\"\n",
      " |              }\n",
      " |          ])\n",
      " |  \n",
      " |  register(self, node, address, service=None, check=None, dc=None, token=None)\n",
      " |      A low level mechanism for directly registering or updating entries\n",
      " |      in the catalog. It is usually recommended to use\n",
      " |      agent.service.register and agent.check.register, as they are\n",
      " |      simpler and perform anti-entropy.\n",
      " |      \n",
      " |      *node* is the name of the node to register.\n",
      " |      \n",
      " |      *address* is the ip of the node.\n",
      " |      \n",
      " |      *service* is an optional service to register. if supplied this is a\n",
      " |      dict::\n",
      " |      \n",
      " |          {\n",
      " |              \"Service\": \"redis\",\n",
      " |              \"ID\": \"redis1\",\n",
      " |              \"Tags\": [\n",
      " |                  \"master\",\n",
      " |                  \"v1\"\n",
      " |              ],\n",
      " |              \"Port\": 8000\n",
      " |          }\n",
      " |      \n",
      " |      where\n",
      " |      \n",
      " |          *Service* is required and is the name of the service\n",
      " |      \n",
      " |          *ID* is optional, and will be set to *Service* if not provided.\n",
      " |          Note *ID* must be unique for the given *node*.\n",
      " |      \n",
      " |          *Tags* and *Port* are optional.\n",
      " |      \n",
      " |      *check* is an optional check to register. if supplied this is a\n",
      " |      dict::\n",
      " |      \n",
      " |          {\n",
      " |              \"Node\": \"foobar\",\n",
      " |              \"CheckID\": \"service:redis1\",\n",
      " |              \"Name\": \"Redis health check\",\n",
      " |              \"Notes\": \"Script based health check\",\n",
      " |              \"Status\": \"passing\",\n",
      " |              \"ServiceID\": \"redis1\"\n",
      " |          }\n",
      " |      \n",
      " |      *dc* is the datacenter of the node and defaults to this agents\n",
      " |      datacenter.\n",
      " |      \n",
      " |      *token* is an optional `ACL token`_ to apply to this request.\n",
      " |      \n",
      " |      This manipulates the health check entry, but does not setup a\n",
      " |      script or TTL to actually update the status. The full documentation\n",
      " |      is `here <https://consul.io/docs/agent/http.html#catalog>`_.\n",
      " |      \n",
      " |      Returns *True* on success.\n",
      " |  \n",
      " |  service(self, service, index=None, wait=None, tag=None, consistency=None, dc=None, near=None, token=None)\n",
      " |      Returns a tuple of (*index*, *nodes*) of the nodes providing\n",
      " |      *service* in the *dc* datacenter. *dc* defaults to the current\n",
      " |      datacenter of this agent.\n",
      " |      \n",
      " |      *index* is the current Consul index, suitable for making subsequent\n",
      " |      calls to wait for changes since this query was last run.\n",
      " |      \n",
      " |      *wait* the maximum duration to wait (e.g. '10s') to retrieve\n",
      " |      a given index. this parameter is only applied if *index* is also\n",
      " |      specified. the wait time by default is 5 minutes.\n",
      " |      \n",
      " |      If *tag* is provided, the list of nodes returned will be filtered\n",
      " |      by that tag.\n",
      " |      \n",
      " |      *near* is a node name to sort the resulting list in ascending\n",
      " |      order based on the estimated round trip time from that node\n",
      " |      \n",
      " |      *consistency* can be either 'default', 'consistent' or 'stale'. if\n",
      " |      not specified *consistency* will the consistency level this client\n",
      " |      was configured with.\n",
      " |      \n",
      " |      *token* is an optional `ACL token`_ to apply to this request.\n",
      " |      \n",
      " |      The response looks like this::\n",
      " |      \n",
      " |          (index, [\n",
      " |              {\n",
      " |                  \"Node\": \"foobar\",\n",
      " |                  \"Address\": \"10.1.10.12\",\n",
      " |                  \"ServiceID\": \"redis\",\n",
      " |                  \"ServiceName\": \"redis\",\n",
      " |                  \"ServiceTags\": null,\n",
      " |                  \"ServicePort\": 8000\n",
      " |              }\n",
      " |          ])\n",
      " |  \n",
      " |  services(self, index=None, wait=None, consistency=None, dc=None, token=None, node_meta=None)\n",
      " |      Returns a tuple of (*index*, *services*) of all services known\n",
      " |      about in the *dc* datacenter. *dc* defaults to the current\n",
      " |      datacenter of this agent.\n",
      " |      \n",
      " |      *index* is the current Consul index, suitable for making subsequent\n",
      " |      calls to wait for changes since this query was last run.\n",
      " |      \n",
      " |      *wait* the maximum duration to wait (e.g. '10s') to retrieve\n",
      " |      a given index. this parameter is only applied if *index* is also\n",
      " |      specified. the wait time by default is 5 minutes.\n",
      " |      \n",
      " |      *consistency* can be either 'default', 'consistent' or 'stale'. if\n",
      " |      not specified *consistency* will the consistency level this client\n",
      " |      was configured with.\n",
      " |      \n",
      " |      *token* is an optional `ACL token`_ to apply to this request.\n",
      " |      \n",
      " |      *node_meta* is an optional meta data used for filtering, a\n",
      " |      dictionary formatted as {k1:v1, k2:v2}.\n",
      " |      \n",
      " |      The response looks like this::\n",
      " |      \n",
      " |          (index, {\n",
      " |              \"consul\": [],\n",
      " |              \"redis\": [],\n",
      " |              \"postgresql\": [\n",
      " |                  \"master\",\n",
      " |                  \"slave\"\n",
      " |              ]\n",
      " |          })\n",
      " |      \n",
      " |      The main keys are the service names and the list provides all the\n",
      " |      known tags for a given service.\n",
      " |  \n",
      " |  ----------------------------------------------------------------------\n",
      " |  Data descriptors defined here:\n",
      " |  \n",
      " |  __dict__\n",
      " |      dictionary for instance variables (if defined)\n",
      " |  \n",
      " |  __weakref__\n",
      " |      list of weak references to the object (if defined)\n",
      "\n",
      "None\n"
     ]
    }
   ],
   "source": [
    "import consul\n",
    "\n",
    "# print(help(consul.Consul))\n",
    "c = consul.Consul(host='192.168.199.76',dc='uat')\n",
    "\n",
    "print(help(c.catalog))"
   ]
  },
  {
   "cell_type": "code",
   "execution_count": 33,
   "metadata": {},
   "outputs": [
    {
     "name": "stdout",
     "output_type": "stream",
     "text": [
      "['uat']\n"
     ]
    }
   ],
   "source": [
    "d = c.catalog.datacenters()\n",
    "print(d)"
   ]
  },
  {
   "cell_type": "code",
   "execution_count": 34,
   "metadata": {},
   "outputs": [
    {
     "data": {
      "text/plain": [
       "('107215',\n",
       " [{'ID': '7801f9e9-bcf2-1385-e590-0b330bf326e8',\n",
       "   'Node': 'slq-als-1',\n",
       "   'Address': '192.168.199.68',\n",
       "   'Datacenter': 'uat',\n",
       "   'TaggedAddresses': {'lan': '192.168.199.68', 'wan': '192.168.199.68'},\n",
       "   'Meta': {'consul-network-segment': ''},\n",
       "   'CreateIndex': 107212,\n",
       "   'ModifyIndex': 107215}])"
      ]
     },
     "execution_count": 34,
     "metadata": {},
     "output_type": "execute_result"
    }
   ],
   "source": [
    "c.catalog.nodes()"
   ]
  },
  {
   "cell_type": "code",
   "execution_count": 60,
   "metadata": {},
   "outputs": [
    {
     "data": {
      "text/plain": [
       "('114393',\n",
       " [{'ID': '7801f9e9-bcf2-1385-e590-0b330bf326e8',\n",
       "   'Node': 'slq-als-1',\n",
       "   'Address': '192.168.199.68',\n",
       "   'Datacenter': 'uat',\n",
       "   'TaggedAddresses': {'lan': '192.168.199.68', 'wan': '192.168.199.68'},\n",
       "   'NodeMeta': {'consul-network-segment': ''},\n",
       "   'ServiceKind': '',\n",
       "   'ServiceID': 'zuul-12081',\n",
       "   'ServiceName': 'zuul',\n",
       "   'ServiceTags': [],\n",
       "   'ServiceAddress': '192.168.199.76',\n",
       "   'ServiceMeta': {},\n",
       "   'ServicePort': 12081,\n",
       "   'ServiceEnableTagOverride': False,\n",
       "   'ServiceProxyDestination': '',\n",
       "   'ServiceConnect': {'Native': False, 'Proxy': None},\n",
       "   'CreateIndex': 114392,\n",
       "   'ModifyIndex': 114392}])"
      ]
     },
     "execution_count": 60,
     "metadata": {},
     "output_type": "execute_result"
    }
   ],
   "source": [
    "c.catalog.service('zuul')"
   ]
  },
  {
   "cell_type": "code",
   "execution_count": 62,
   "metadata": {},
   "outputs": [
    {
     "name": "stdout",
     "output_type": "stream",
     "text": [
      "slq-als-1 zuul-12081 uat\n"
     ]
    }
   ],
   "source": [
    "node = c.catalog.service('zuul')[1][0]['Node']\n",
    "serverId = c.catalog.service('zuul')[1][0]['ServiceID']\n",
    "dc = c.catalog.service('zuul')[1][0]['Datacenter']\n",
    "print(node, serverId, dc)"
   ]
  },
  {
   "cell_type": "code",
   "execution_count": 66,
   "metadata": {},
   "outputs": [
    {
     "data": {
      "text/plain": [
       "True"
      ]
     },
     "execution_count": 66,
     "metadata": {},
     "output_type": "execute_result"
    }
   ],
   "source": [
    "c.catalog.deregister('slq-als-1',u'zuul-12081')"
   ]
  },
  {
   "cell_type": "markdown",
   "metadata": {},
   "source": [
    "## consul 集群状态健康"
   ]
  },
  {
   "cell_type": "code",
   "execution_count": 96,
   "metadata": {},
   "outputs": [
    {
     "name": "stdout",
     "output_type": "stream",
     "text": [
      "{'Node': 'slq-uat-1', 'CheckID': 'service:Account:192.168.199.32:14994', 'Name': \"Service 'Account' check\", 'Status': 'passing', 'Notes': '', 'Output': 'HTTP GET http://192.168.199.32:14994/api/Account/health/ping: 200 OK Output: \"Account\"', 'ServiceID': 'Account:192.168.199.32:14994', 'ServiceName': 'Account', 'ServiceTags': [], 'CreateIndex': 0, 'ModifyIndex': 0}\n"
     ]
    }
   ],
   "source": [
    "import consul\n",
    "\n",
    "# print(help(consul.Consul))\n",
    "c = consul.Consul(host='192.168.199.32',dc='uat')\n",
    "\n",
    "class ConsulApi(object):\n",
    "    def __init__(self):\n",
    "    \n",
    "    def cchecks(self):\n",
    "        pass\n",
    "    \n",
    "    def cstatus(self):\n",
    "        pass\n",
    "        \n",
    "\n",
    "#print(help(c.catalog))\n",
    "\n",
    "c.status\n",
    "\n",
    "# leader\n",
    "c.status.leader()\n",
    "\n",
    "# server\n",
    "c.status.peers()\n",
    "\n",
    "\"\"\"\n",
    "{'service:Account:192.168.199.32:14994': {'Node': 'slq-uat-1',\n",
    "  'CheckID': 'service:Account:192.168.199.32:14994',\n",
    "  'Name': \"Service 'Account' check\",\n",
    "  'Status': 'passing',\n",
    "  'Notes': '',\n",
    "  'Output': 'HTTP GET http://192.168.199.32:14994/api/Account/health/ping: 200 OK Output: \"Account\"',\n",
    "  'ServiceID': 'Account:192.168.199.32:14994',\n",
    "  'ServiceName': 'Account',\n",
    "  'ServiceTags': [],\n",
    "  'CreateIndex': 0,\n",
    "  'ModifyIndex': 0},\n",
    "\"\"\"\n",
    "check_dict = c.agent.checks()\n",
    "\n",
    "print(check_dict['service:Account:192.168.199.32:14994'])\n",
    "\n",
    "\n",
    "#for n in check_dict:\n",
    "#    print(check_dict[n]['ServiceName'])\n",
    "#    print(check_dict[n]['Output'])\n",
    "    "
   ]
  },
  {
   "cell_type": "code",
   "execution_count": 106,
   "metadata": {},
   "outputs": [
    {
     "name": "stdout",
     "output_type": "stream",
     "text": [
      "slq-uat-1\n",
      "1\n",
      "slq-cache-1\n",
      "1\n",
      "slq-disque-1\n",
      "1\n",
      "slq-web-1\n",
      "1\n",
      "007-0000.local\n",
      "4\n",
      "ezbuy-zydeMacBook-Air.local\n",
      "1\n",
      "__________\n"
     ]
    }
   ],
   "source": [
    "\n",
    "# ConnectionError\n",
    "\n",
    "consul_members = c.agent.members()\n",
    "for n in  consul_members:\n",
    "    print(n['Name'])\n",
    "    print(n['Status'])\n",
    "    \n",
    "print('__________')"
   ]
  },
  {
   "cell_type": "code",
   "execution_count": 108,
   "metadata": {},
   "outputs": [
    {
     "ename": "ReadTimeout",
     "evalue": "HTTPConnectionPool(host='192.168.199.32', port=8500): Read timed out. (read timeout=None)",
     "output_type": "error",
     "traceback": [
      "\u001b[0;31m---------------------------------------------------------------------------\u001b[0m",
      "\u001b[0;31mTimeoutError\u001b[0m                              Traceback (most recent call last)",
      "\u001b[0;32m~/venv/ven363/lib/python3.6/site-packages/urllib3/connectionpool.py\u001b[0m in \u001b[0;36m_make_request\u001b[0;34m(self, conn, method, url, timeout, chunked, **httplib_request_kw)\u001b[0m\n\u001b[1;32m    383\u001b[0m                     \u001b[0;31m# otherwise it looks like a programming error was the cause.\u001b[0m\u001b[0;34m\u001b[0m\u001b[0;34m\u001b[0m\u001b[0m\n\u001b[0;32m--> 384\u001b[0;31m                     \u001b[0msix\u001b[0m\u001b[0;34m.\u001b[0m\u001b[0mraise_from\u001b[0m\u001b[0;34m(\u001b[0m\u001b[0me\u001b[0m\u001b[0;34m,\u001b[0m \u001b[0;32mNone\u001b[0m\u001b[0;34m)\u001b[0m\u001b[0;34m\u001b[0m\u001b[0m\n\u001b[0m\u001b[1;32m    385\u001b[0m         \u001b[0;32mexcept\u001b[0m \u001b[0;34m(\u001b[0m\u001b[0mSocketTimeout\u001b[0m\u001b[0;34m,\u001b[0m \u001b[0mBaseSSLError\u001b[0m\u001b[0;34m,\u001b[0m \u001b[0mSocketError\u001b[0m\u001b[0;34m)\u001b[0m \u001b[0;32mas\u001b[0m \u001b[0me\u001b[0m\u001b[0;34m:\u001b[0m\u001b[0;34m\u001b[0m\u001b[0m\n",
      "\u001b[0;32m~/venv/ven363/lib/python3.6/site-packages/urllib3/packages/six.py\u001b[0m in \u001b[0;36mraise_from\u001b[0;34m(value, from_value)\u001b[0m\n",
      "\u001b[0;32m~/venv/ven363/lib/python3.6/site-packages/urllib3/connectionpool.py\u001b[0m in \u001b[0;36m_make_request\u001b[0;34m(self, conn, method, url, timeout, chunked, **httplib_request_kw)\u001b[0m\n\u001b[1;32m    379\u001b[0m                 \u001b[0;32mtry\u001b[0m\u001b[0;34m:\u001b[0m\u001b[0;34m\u001b[0m\u001b[0m\n\u001b[0;32m--> 380\u001b[0;31m                     \u001b[0mhttplib_response\u001b[0m \u001b[0;34m=\u001b[0m \u001b[0mconn\u001b[0m\u001b[0;34m.\u001b[0m\u001b[0mgetresponse\u001b[0m\u001b[0;34m(\u001b[0m\u001b[0;34m)\u001b[0m\u001b[0;34m\u001b[0m\u001b[0m\n\u001b[0m\u001b[1;32m    381\u001b[0m                 \u001b[0;32mexcept\u001b[0m \u001b[0mException\u001b[0m \u001b[0;32mas\u001b[0m \u001b[0me\u001b[0m\u001b[0;34m:\u001b[0m\u001b[0;34m\u001b[0m\u001b[0m\n",
      "\u001b[0;32m/Library/Frameworks/Python.framework/Versions/3.6/lib/python3.6/http/client.py\u001b[0m in \u001b[0;36mgetresponse\u001b[0;34m(self)\u001b[0m\n\u001b[1;32m   1330\u001b[0m             \u001b[0;32mtry\u001b[0m\u001b[0;34m:\u001b[0m\u001b[0;34m\u001b[0m\u001b[0m\n\u001b[0;32m-> 1331\u001b[0;31m                 \u001b[0mresponse\u001b[0m\u001b[0;34m.\u001b[0m\u001b[0mbegin\u001b[0m\u001b[0;34m(\u001b[0m\u001b[0;34m)\u001b[0m\u001b[0;34m\u001b[0m\u001b[0m\n\u001b[0m\u001b[1;32m   1332\u001b[0m             \u001b[0;32mexcept\u001b[0m \u001b[0mConnectionError\u001b[0m\u001b[0;34m:\u001b[0m\u001b[0;34m\u001b[0m\u001b[0m\n",
      "\u001b[0;32m/Library/Frameworks/Python.framework/Versions/3.6/lib/python3.6/http/client.py\u001b[0m in \u001b[0;36mbegin\u001b[0;34m(self)\u001b[0m\n\u001b[1;32m    296\u001b[0m         \u001b[0;32mwhile\u001b[0m \u001b[0;32mTrue\u001b[0m\u001b[0;34m:\u001b[0m\u001b[0;34m\u001b[0m\u001b[0m\n\u001b[0;32m--> 297\u001b[0;31m             \u001b[0mversion\u001b[0m\u001b[0;34m,\u001b[0m \u001b[0mstatus\u001b[0m\u001b[0;34m,\u001b[0m \u001b[0mreason\u001b[0m \u001b[0;34m=\u001b[0m \u001b[0mself\u001b[0m\u001b[0;34m.\u001b[0m\u001b[0m_read_status\u001b[0m\u001b[0;34m(\u001b[0m\u001b[0;34m)\u001b[0m\u001b[0;34m\u001b[0m\u001b[0m\n\u001b[0m\u001b[1;32m    298\u001b[0m             \u001b[0;32mif\u001b[0m \u001b[0mstatus\u001b[0m \u001b[0;34m!=\u001b[0m \u001b[0mCONTINUE\u001b[0m\u001b[0;34m:\u001b[0m\u001b[0;34m\u001b[0m\u001b[0m\n",
      "\u001b[0;32m/Library/Frameworks/Python.framework/Versions/3.6/lib/python3.6/http/client.py\u001b[0m in \u001b[0;36m_read_status\u001b[0;34m(self)\u001b[0m\n\u001b[1;32m    257\u001b[0m     \u001b[0;32mdef\u001b[0m \u001b[0m_read_status\u001b[0m\u001b[0;34m(\u001b[0m\u001b[0mself\u001b[0m\u001b[0;34m)\u001b[0m\u001b[0;34m:\u001b[0m\u001b[0;34m\u001b[0m\u001b[0m\n\u001b[0;32m--> 258\u001b[0;31m         \u001b[0mline\u001b[0m \u001b[0;34m=\u001b[0m \u001b[0mstr\u001b[0m\u001b[0;34m(\u001b[0m\u001b[0mself\u001b[0m\u001b[0;34m.\u001b[0m\u001b[0mfp\u001b[0m\u001b[0;34m.\u001b[0m\u001b[0mreadline\u001b[0m\u001b[0;34m(\u001b[0m\u001b[0m_MAXLINE\u001b[0m \u001b[0;34m+\u001b[0m \u001b[0;36m1\u001b[0m\u001b[0;34m)\u001b[0m\u001b[0;34m,\u001b[0m \u001b[0;34m\"iso-8859-1\"\u001b[0m\u001b[0;34m)\u001b[0m\u001b[0;34m\u001b[0m\u001b[0m\n\u001b[0m\u001b[1;32m    259\u001b[0m         \u001b[0;32mif\u001b[0m \u001b[0mlen\u001b[0m\u001b[0;34m(\u001b[0m\u001b[0mline\u001b[0m\u001b[0;34m)\u001b[0m \u001b[0;34m>\u001b[0m \u001b[0m_MAXLINE\u001b[0m\u001b[0;34m:\u001b[0m\u001b[0;34m\u001b[0m\u001b[0m\n",
      "\u001b[0;32m/Library/Frameworks/Python.framework/Versions/3.6/lib/python3.6/socket.py\u001b[0m in \u001b[0;36mreadinto\u001b[0;34m(self, b)\u001b[0m\n\u001b[1;32m    585\u001b[0m             \u001b[0;32mtry\u001b[0m\u001b[0;34m:\u001b[0m\u001b[0;34m\u001b[0m\u001b[0m\n\u001b[0;32m--> 586\u001b[0;31m                 \u001b[0;32mreturn\u001b[0m \u001b[0mself\u001b[0m\u001b[0;34m.\u001b[0m\u001b[0m_sock\u001b[0m\u001b[0;34m.\u001b[0m\u001b[0mrecv_into\u001b[0m\u001b[0;34m(\u001b[0m\u001b[0mb\u001b[0m\u001b[0;34m)\u001b[0m\u001b[0;34m\u001b[0m\u001b[0m\n\u001b[0m\u001b[1;32m    587\u001b[0m             \u001b[0;32mexcept\u001b[0m \u001b[0mtimeout\u001b[0m\u001b[0;34m:\u001b[0m\u001b[0;34m\u001b[0m\u001b[0m\n",
      "\u001b[0;31mTimeoutError\u001b[0m: [Errno 60] Operation timed out",
      "\nDuring handling of the above exception, another exception occurred:\n",
      "\u001b[0;31mReadTimeoutError\u001b[0m                          Traceback (most recent call last)",
      "\u001b[0;32m~/venv/ven363/lib/python3.6/site-packages/requests/adapters.py\u001b[0m in \u001b[0;36msend\u001b[0;34m(self, request, stream, timeout, verify, cert, proxies)\u001b[0m\n\u001b[1;32m    448\u001b[0m                     \u001b[0mretries\u001b[0m\u001b[0;34m=\u001b[0m\u001b[0mself\u001b[0m\u001b[0;34m.\u001b[0m\u001b[0mmax_retries\u001b[0m\u001b[0;34m,\u001b[0m\u001b[0;34m\u001b[0m\u001b[0m\n\u001b[0;32m--> 449\u001b[0;31m                     \u001b[0mtimeout\u001b[0m\u001b[0;34m=\u001b[0m\u001b[0mtimeout\u001b[0m\u001b[0;34m\u001b[0m\u001b[0m\n\u001b[0m\u001b[1;32m    450\u001b[0m                 )\n",
      "\u001b[0;32m~/venv/ven363/lib/python3.6/site-packages/urllib3/connectionpool.py\u001b[0m in \u001b[0;36murlopen\u001b[0;34m(self, method, url, body, headers, retries, redirect, assert_same_host, timeout, pool_timeout, release_conn, chunked, body_pos, **response_kw)\u001b[0m\n\u001b[1;32m    637\u001b[0m             retries = retries.increment(method, url, error=e, _pool=self,\n\u001b[0;32m--> 638\u001b[0;31m                                         _stacktrace=sys.exc_info()[2])\n\u001b[0m\u001b[1;32m    639\u001b[0m             \u001b[0mretries\u001b[0m\u001b[0;34m.\u001b[0m\u001b[0msleep\u001b[0m\u001b[0;34m(\u001b[0m\u001b[0;34m)\u001b[0m\u001b[0;34m\u001b[0m\u001b[0m\n",
      "\u001b[0;32m~/venv/ven363/lib/python3.6/site-packages/urllib3/util/retry.py\u001b[0m in \u001b[0;36mincrement\u001b[0;34m(self, method, url, response, error, _pool, _stacktrace)\u001b[0m\n\u001b[1;32m    366\u001b[0m             \u001b[0;32mif\u001b[0m \u001b[0mread\u001b[0m \u001b[0;32mis\u001b[0m \u001b[0;32mFalse\u001b[0m \u001b[0;32mor\u001b[0m \u001b[0;32mnot\u001b[0m \u001b[0mself\u001b[0m\u001b[0;34m.\u001b[0m\u001b[0m_is_method_retryable\u001b[0m\u001b[0;34m(\u001b[0m\u001b[0mmethod\u001b[0m\u001b[0;34m)\u001b[0m\u001b[0;34m:\u001b[0m\u001b[0;34m\u001b[0m\u001b[0m\n\u001b[0;32m--> 367\u001b[0;31m                 \u001b[0;32mraise\u001b[0m \u001b[0msix\u001b[0m\u001b[0;34m.\u001b[0m\u001b[0mreraise\u001b[0m\u001b[0;34m(\u001b[0m\u001b[0mtype\u001b[0m\u001b[0;34m(\u001b[0m\u001b[0merror\u001b[0m\u001b[0;34m)\u001b[0m\u001b[0;34m,\u001b[0m \u001b[0merror\u001b[0m\u001b[0;34m,\u001b[0m \u001b[0m_stacktrace\u001b[0m\u001b[0;34m)\u001b[0m\u001b[0;34m\u001b[0m\u001b[0m\n\u001b[0m\u001b[1;32m    368\u001b[0m             \u001b[0;32melif\u001b[0m \u001b[0mread\u001b[0m \u001b[0;32mis\u001b[0m \u001b[0;32mnot\u001b[0m \u001b[0;32mNone\u001b[0m\u001b[0;34m:\u001b[0m\u001b[0;34m\u001b[0m\u001b[0m\n",
      "\u001b[0;32m~/venv/ven363/lib/python3.6/site-packages/urllib3/packages/six.py\u001b[0m in \u001b[0;36mreraise\u001b[0;34m(tp, value, tb)\u001b[0m\n\u001b[1;32m    685\u001b[0m             \u001b[0;32mraise\u001b[0m \u001b[0mvalue\u001b[0m\u001b[0;34m.\u001b[0m\u001b[0mwith_traceback\u001b[0m\u001b[0;34m(\u001b[0m\u001b[0mtb\u001b[0m\u001b[0;34m)\u001b[0m\u001b[0;34m\u001b[0m\u001b[0m\n\u001b[0;32m--> 686\u001b[0;31m         \u001b[0;32mraise\u001b[0m \u001b[0mvalue\u001b[0m\u001b[0;34m\u001b[0m\u001b[0m\n\u001b[0m\u001b[1;32m    687\u001b[0m \u001b[0;34m\u001b[0m\u001b[0m\n",
      "\u001b[0;32m~/venv/ven363/lib/python3.6/site-packages/urllib3/connectionpool.py\u001b[0m in \u001b[0;36murlopen\u001b[0;34m(self, method, url, body, headers, retries, redirect, assert_same_host, timeout, pool_timeout, release_conn, chunked, body_pos, **response_kw)\u001b[0m\n\u001b[1;32m    599\u001b[0m                                                   \u001b[0mbody\u001b[0m\u001b[0;34m=\u001b[0m\u001b[0mbody\u001b[0m\u001b[0;34m,\u001b[0m \u001b[0mheaders\u001b[0m\u001b[0;34m=\u001b[0m\u001b[0mheaders\u001b[0m\u001b[0;34m,\u001b[0m\u001b[0;34m\u001b[0m\u001b[0m\n\u001b[0;32m--> 600\u001b[0;31m                                                   chunked=chunked)\n\u001b[0m\u001b[1;32m    601\u001b[0m \u001b[0;34m\u001b[0m\u001b[0m\n",
      "\u001b[0;32m~/venv/ven363/lib/python3.6/site-packages/urllib3/connectionpool.py\u001b[0m in \u001b[0;36m_make_request\u001b[0;34m(self, conn, method, url, timeout, chunked, **httplib_request_kw)\u001b[0m\n\u001b[1;32m    385\u001b[0m         \u001b[0;32mexcept\u001b[0m \u001b[0;34m(\u001b[0m\u001b[0mSocketTimeout\u001b[0m\u001b[0;34m,\u001b[0m \u001b[0mBaseSSLError\u001b[0m\u001b[0;34m,\u001b[0m \u001b[0mSocketError\u001b[0m\u001b[0;34m)\u001b[0m \u001b[0;32mas\u001b[0m \u001b[0me\u001b[0m\u001b[0;34m:\u001b[0m\u001b[0;34m\u001b[0m\u001b[0m\n\u001b[0;32m--> 386\u001b[0;31m             \u001b[0mself\u001b[0m\u001b[0;34m.\u001b[0m\u001b[0m_raise_timeout\u001b[0m\u001b[0;34m(\u001b[0m\u001b[0merr\u001b[0m\u001b[0;34m=\u001b[0m\u001b[0me\u001b[0m\u001b[0;34m,\u001b[0m \u001b[0murl\u001b[0m\u001b[0;34m=\u001b[0m\u001b[0murl\u001b[0m\u001b[0;34m,\u001b[0m \u001b[0mtimeout_value\u001b[0m\u001b[0;34m=\u001b[0m\u001b[0mread_timeout\u001b[0m\u001b[0;34m)\u001b[0m\u001b[0;34m\u001b[0m\u001b[0m\n\u001b[0m\u001b[1;32m    387\u001b[0m             \u001b[0;32mraise\u001b[0m\u001b[0;34m\u001b[0m\u001b[0m\n",
      "\u001b[0;32m~/venv/ven363/lib/python3.6/site-packages/urllib3/connectionpool.py\u001b[0m in \u001b[0;36m_raise_timeout\u001b[0;34m(self, err, url, timeout_value)\u001b[0m\n\u001b[1;32m    316\u001b[0m         \u001b[0;32mif\u001b[0m \u001b[0;34m'timed out'\u001b[0m \u001b[0;32min\u001b[0m \u001b[0mstr\u001b[0m\u001b[0;34m(\u001b[0m\u001b[0merr\u001b[0m\u001b[0;34m)\u001b[0m \u001b[0;32mor\u001b[0m \u001b[0;34m'did not complete (read)'\u001b[0m \u001b[0;32min\u001b[0m \u001b[0mstr\u001b[0m\u001b[0;34m(\u001b[0m\u001b[0merr\u001b[0m\u001b[0;34m)\u001b[0m\u001b[0;34m:\u001b[0m  \u001b[0;31m# Python < 2.7.4\u001b[0m\u001b[0;34m\u001b[0m\u001b[0m\n\u001b[0;32m--> 317\u001b[0;31m             \u001b[0;32mraise\u001b[0m \u001b[0mReadTimeoutError\u001b[0m\u001b[0;34m(\u001b[0m\u001b[0mself\u001b[0m\u001b[0;34m,\u001b[0m \u001b[0murl\u001b[0m\u001b[0;34m,\u001b[0m \u001b[0;34m\"Read timed out. (read timeout=%s)\"\u001b[0m \u001b[0;34m%\u001b[0m \u001b[0mtimeout_value\u001b[0m\u001b[0;34m)\u001b[0m\u001b[0;34m\u001b[0m\u001b[0m\n\u001b[0m\u001b[1;32m    318\u001b[0m \u001b[0;34m\u001b[0m\u001b[0m\n",
      "\u001b[0;31mReadTimeoutError\u001b[0m: HTTPConnectionPool(host='192.168.199.32', port=8500): Read timed out. (read timeout=None)",
      "\nDuring handling of the above exception, another exception occurred:\n",
      "\u001b[0;31mReadTimeout\u001b[0m                               Traceback (most recent call last)",
      "\u001b[0;32m<ipython-input-108-337f4e2655d2>\u001b[0m in \u001b[0;36m<module>\u001b[0;34m\u001b[0m\n\u001b[0;32m----> 1\u001b[0;31m \u001b[0mc\u001b[0m\u001b[0;34m.\u001b[0m\u001b[0mhealth\u001b[0m\u001b[0;34m.\u001b[0m\u001b[0mnode\u001b[0m\u001b[0;34m(\u001b[0m\u001b[0;34m'slq-uat-1'\u001b[0m\u001b[0;34m)\u001b[0m\u001b[0;34m\u001b[0m\u001b[0m\n\u001b[0m",
      "\u001b[0;32m~/venv/ven363/lib/python3.6/site-packages/consul/base.py\u001b[0m in \u001b[0;36mnode\u001b[0;34m(self, node, index, wait, dc, token)\u001b[0m\n\u001b[1;32m   1686\u001b[0m                 \u001b[0mCB\u001b[0m\u001b[0;34m.\u001b[0m\u001b[0mjson\u001b[0m\u001b[0;34m(\u001b[0m\u001b[0mindex\u001b[0m\u001b[0;34m=\u001b[0m\u001b[0;32mTrue\u001b[0m\u001b[0;34m)\u001b[0m\u001b[0;34m,\u001b[0m\u001b[0;34m\u001b[0m\u001b[0m\n\u001b[1;32m   1687\u001b[0m                 \u001b[0;34m'/v1/health/node/%s'\u001b[0m \u001b[0;34m%\u001b[0m \u001b[0mnode\u001b[0m\u001b[0;34m,\u001b[0m\u001b[0;34m\u001b[0m\u001b[0m\n\u001b[0;32m-> 1688\u001b[0;31m                 params=params)\n\u001b[0m\u001b[1;32m   1689\u001b[0m \u001b[0;34m\u001b[0m\u001b[0m\n\u001b[1;32m   1690\u001b[0m     \u001b[0;32mclass\u001b[0m \u001b[0mSession\u001b[0m\u001b[0;34m(\u001b[0m\u001b[0mobject\u001b[0m\u001b[0;34m)\u001b[0m\u001b[0;34m:\u001b[0m\u001b[0;34m\u001b[0m\u001b[0m\n",
      "\u001b[0;32m~/venv/ven363/lib/python3.6/site-packages/consul/std.py\u001b[0m in \u001b[0;36mget\u001b[0;34m(self, callback, path, params)\u001b[0m\n\u001b[1;32m     20\u001b[0m         \u001b[0muri\u001b[0m \u001b[0;34m=\u001b[0m \u001b[0mself\u001b[0m\u001b[0;34m.\u001b[0m\u001b[0muri\u001b[0m\u001b[0;34m(\u001b[0m\u001b[0mpath\u001b[0m\u001b[0;34m,\u001b[0m \u001b[0mparams\u001b[0m\u001b[0;34m)\u001b[0m\u001b[0;34m\u001b[0m\u001b[0m\n\u001b[1;32m     21\u001b[0m         return callback(self.response(\n\u001b[0;32m---> 22\u001b[0;31m             self.session.get(uri, verify=self.verify, cert=self.cert)))\n\u001b[0m\u001b[1;32m     23\u001b[0m \u001b[0;34m\u001b[0m\u001b[0m\n\u001b[1;32m     24\u001b[0m     \u001b[0;32mdef\u001b[0m \u001b[0mput\u001b[0m\u001b[0;34m(\u001b[0m\u001b[0mself\u001b[0m\u001b[0;34m,\u001b[0m \u001b[0mcallback\u001b[0m\u001b[0;34m,\u001b[0m \u001b[0mpath\u001b[0m\u001b[0;34m,\u001b[0m \u001b[0mparams\u001b[0m\u001b[0;34m=\u001b[0m\u001b[0;32mNone\u001b[0m\u001b[0;34m,\u001b[0m \u001b[0mdata\u001b[0m\u001b[0;34m=\u001b[0m\u001b[0;34m''\u001b[0m\u001b[0;34m)\u001b[0m\u001b[0;34m:\u001b[0m\u001b[0;34m\u001b[0m\u001b[0m\n",
      "\u001b[0;32m~/venv/ven363/lib/python3.6/site-packages/requests/sessions.py\u001b[0m in \u001b[0;36mget\u001b[0;34m(self, url, **kwargs)\u001b[0m\n\u001b[1;32m    544\u001b[0m \u001b[0;34m\u001b[0m\u001b[0m\n\u001b[1;32m    545\u001b[0m         \u001b[0mkwargs\u001b[0m\u001b[0;34m.\u001b[0m\u001b[0msetdefault\u001b[0m\u001b[0;34m(\u001b[0m\u001b[0;34m'allow_redirects'\u001b[0m\u001b[0;34m,\u001b[0m \u001b[0;32mTrue\u001b[0m\u001b[0;34m)\u001b[0m\u001b[0;34m\u001b[0m\u001b[0m\n\u001b[0;32m--> 546\u001b[0;31m         \u001b[0;32mreturn\u001b[0m \u001b[0mself\u001b[0m\u001b[0;34m.\u001b[0m\u001b[0mrequest\u001b[0m\u001b[0;34m(\u001b[0m\u001b[0;34m'GET'\u001b[0m\u001b[0;34m,\u001b[0m \u001b[0murl\u001b[0m\u001b[0;34m,\u001b[0m \u001b[0;34m**\u001b[0m\u001b[0mkwargs\u001b[0m\u001b[0;34m)\u001b[0m\u001b[0;34m\u001b[0m\u001b[0m\n\u001b[0m\u001b[1;32m    547\u001b[0m \u001b[0;34m\u001b[0m\u001b[0m\n\u001b[1;32m    548\u001b[0m     \u001b[0;32mdef\u001b[0m \u001b[0moptions\u001b[0m\u001b[0;34m(\u001b[0m\u001b[0mself\u001b[0m\u001b[0;34m,\u001b[0m \u001b[0murl\u001b[0m\u001b[0;34m,\u001b[0m \u001b[0;34m**\u001b[0m\u001b[0mkwargs\u001b[0m\u001b[0;34m)\u001b[0m\u001b[0;34m:\u001b[0m\u001b[0;34m\u001b[0m\u001b[0m\n",
      "\u001b[0;32m~/venv/ven363/lib/python3.6/site-packages/requests/sessions.py\u001b[0m in \u001b[0;36mrequest\u001b[0;34m(self, method, url, params, data, headers, cookies, files, auth, timeout, allow_redirects, proxies, hooks, stream, verify, cert, json)\u001b[0m\n\u001b[1;32m    531\u001b[0m         }\n\u001b[1;32m    532\u001b[0m         \u001b[0msend_kwargs\u001b[0m\u001b[0;34m.\u001b[0m\u001b[0mupdate\u001b[0m\u001b[0;34m(\u001b[0m\u001b[0msettings\u001b[0m\u001b[0;34m)\u001b[0m\u001b[0;34m\u001b[0m\u001b[0m\n\u001b[0;32m--> 533\u001b[0;31m         \u001b[0mresp\u001b[0m \u001b[0;34m=\u001b[0m \u001b[0mself\u001b[0m\u001b[0;34m.\u001b[0m\u001b[0msend\u001b[0m\u001b[0;34m(\u001b[0m\u001b[0mprep\u001b[0m\u001b[0;34m,\u001b[0m \u001b[0;34m**\u001b[0m\u001b[0msend_kwargs\u001b[0m\u001b[0;34m)\u001b[0m\u001b[0;34m\u001b[0m\u001b[0m\n\u001b[0m\u001b[1;32m    534\u001b[0m \u001b[0;34m\u001b[0m\u001b[0m\n\u001b[1;32m    535\u001b[0m         \u001b[0;32mreturn\u001b[0m \u001b[0mresp\u001b[0m\u001b[0;34m\u001b[0m\u001b[0m\n",
      "\u001b[0;32m~/venv/ven363/lib/python3.6/site-packages/requests/sessions.py\u001b[0m in \u001b[0;36msend\u001b[0;34m(self, request, **kwargs)\u001b[0m\n\u001b[1;32m    644\u001b[0m \u001b[0;34m\u001b[0m\u001b[0m\n\u001b[1;32m    645\u001b[0m         \u001b[0;31m# Send the request\u001b[0m\u001b[0;34m\u001b[0m\u001b[0;34m\u001b[0m\u001b[0m\n\u001b[0;32m--> 646\u001b[0;31m         \u001b[0mr\u001b[0m \u001b[0;34m=\u001b[0m \u001b[0madapter\u001b[0m\u001b[0;34m.\u001b[0m\u001b[0msend\u001b[0m\u001b[0;34m(\u001b[0m\u001b[0mrequest\u001b[0m\u001b[0;34m,\u001b[0m \u001b[0;34m**\u001b[0m\u001b[0mkwargs\u001b[0m\u001b[0;34m)\u001b[0m\u001b[0;34m\u001b[0m\u001b[0m\n\u001b[0m\u001b[1;32m    647\u001b[0m \u001b[0;34m\u001b[0m\u001b[0m\n\u001b[1;32m    648\u001b[0m         \u001b[0;31m# Total elapsed time of the request (approximately)\u001b[0m\u001b[0;34m\u001b[0m\u001b[0;34m\u001b[0m\u001b[0m\n",
      "\u001b[0;32m~/venv/ven363/lib/python3.6/site-packages/requests/adapters.py\u001b[0m in \u001b[0;36msend\u001b[0;34m(self, request, stream, timeout, verify, cert, proxies)\u001b[0m\n\u001b[1;32m    527\u001b[0m                 \u001b[0;32mraise\u001b[0m \u001b[0mSSLError\u001b[0m\u001b[0;34m(\u001b[0m\u001b[0me\u001b[0m\u001b[0;34m,\u001b[0m \u001b[0mrequest\u001b[0m\u001b[0;34m=\u001b[0m\u001b[0mrequest\u001b[0m\u001b[0;34m)\u001b[0m\u001b[0;34m\u001b[0m\u001b[0m\n\u001b[1;32m    528\u001b[0m             \u001b[0;32melif\u001b[0m \u001b[0misinstance\u001b[0m\u001b[0;34m(\u001b[0m\u001b[0me\u001b[0m\u001b[0;34m,\u001b[0m \u001b[0mReadTimeoutError\u001b[0m\u001b[0;34m)\u001b[0m\u001b[0;34m:\u001b[0m\u001b[0;34m\u001b[0m\u001b[0m\n\u001b[0;32m--> 529\u001b[0;31m                 \u001b[0;32mraise\u001b[0m \u001b[0mReadTimeout\u001b[0m\u001b[0;34m(\u001b[0m\u001b[0me\u001b[0m\u001b[0;34m,\u001b[0m \u001b[0mrequest\u001b[0m\u001b[0;34m=\u001b[0m\u001b[0mrequest\u001b[0m\u001b[0;34m)\u001b[0m\u001b[0;34m\u001b[0m\u001b[0m\n\u001b[0m\u001b[1;32m    530\u001b[0m             \u001b[0;32melse\u001b[0m\u001b[0;34m:\u001b[0m\u001b[0;34m\u001b[0m\u001b[0m\n\u001b[1;32m    531\u001b[0m                 \u001b[0;32mraise\u001b[0m\u001b[0;34m\u001b[0m\u001b[0m\n",
      "\u001b[0;31mReadTimeout\u001b[0m: HTTPConnectionPool(host='192.168.199.32', port=8500): Read timed out. (read timeout=None)"
     ]
    }
   ],
   "source": [
    "c.health.node('slq-uat-1')"
   ]
  },
  {
   "cell_type": "code",
   "execution_count": null,
   "metadata": {},
   "outputs": [],
   "source": [
    "c.health.state('slq-uat-1')"
   ]
  },
  {
   "cell_type": "markdown",
   "metadata": {},
   "source": [
    "## 服务监控"
   ]
  },
  {
   "cell_type": "code",
   "execution_count": null,
   "metadata": {},
   "outputs": [],
   "source": [
    "import consul\n",
    "\n",
    "# print(help(consul.Consul))\n",
    "client = consul.Consul(host='192.168.199.76',dc='uat')\n",
    "\n",
    "\n",
    "client.health.node(client.agent.members()[0]['Name'])"
   ]
  },
  {
   "cell_type": "code",
   "execution_count": null,
   "metadata": {},
   "outputs": [],
   "source": []
  }
 ],
 "metadata": {
  "kernelspec": {
   "display_name": "Python 3",
   "language": "python",
   "name": "python3"
  },
  "language_info": {
   "codemirror_mode": {
    "name": "ipython",
    "version": 3
   },
   "file_extension": ".py",
   "mimetype": "text/x-python",
   "name": "python",
   "nbconvert_exporter": "python",
   "pygments_lexer": "ipython3",
   "version": "3.6.3"
  }
 },
 "nbformat": 4,
 "nbformat_minor": 2
}

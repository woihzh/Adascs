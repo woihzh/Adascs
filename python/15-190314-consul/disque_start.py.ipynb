{
 "cells": [
  {
   "cell_type": "code",
   "execution_count": 4,
   "metadata": {},
   "outputs": [
    {
     "data": {
      "text/plain": [
       "['ack_job',\n",
       " 'add_job',\n",
       " 'connect',\n",
       " 'connected_node',\n",
       " 'del_job',\n",
       " 'dequeue',\n",
       " 'enqueue',\n",
       " 'execute_command',\n",
       " 'fast_ack',\n",
       " 'get_connection',\n",
       " 'get_job',\n",
       " 'hello',\n",
       " 'info',\n",
       " 'jscan',\n",
       " 'nack_job',\n",
       " 'nodes',\n",
       " 'pause',\n",
       " 'qlen',\n",
       " 'qpeek',\n",
       " 'qscan',\n",
       " 'qstat',\n",
       " 'show',\n",
       " 'working']"
      ]
     },
     "execution_count": 4,
     "metadata": {},
     "output_type": "execute_result"
    }
   ],
   "source": [
    "# http://xiaorui.cc/2015/05/11/python%E4%BD%BF%E7%94%A8pydisque%E5%AE%9E%E7%8E%B0%E6%93%8D%E4%BD%9Cdisque%E6%B6%88%E6%81%AF%E9%98%9F%E5%88%97\n",
    "\n",
    "from pydisque.client import Client\n",
    "\n",
    "client = Client(['192.168.199.97:23001', '192.168.199.97:23002', '192.168.199.97:23003'])\n",
    "client.connect()\n",
    "\n",
    "[n for n in dir(client) if n.startswith('_') is False]"
   ]
  },
  {
   "cell_type": "code",
   "execution_count": 7,
   "metadata": {},
   "outputs": [
    {
     "name": "stdout",
     "output_type": "stream",
     "text": [
      "Help on method qlen in module pydisque.client:\n",
      "\n",
      "qlen(queue_name) method of pydisque.client.Client instance\n",
      "    Return the length of the named queue.\n",
      "    \n",
      "    QLEN <qname>\n",
      "    \n",
      "    :param queue_name: name of the queue\n",
      "    :returns: length of the queue\n",
      "\n"
     ]
    }
   ],
   "source": [
    "help(client.qlen)"
   ]
  },
  {
   "cell_type": "code",
   "execution_count": 8,
   "metadata": {},
   "outputs": [
    {
     "name": "stdout",
     "output_type": "stream",
     "text": [
      "Help on method get_job in module pydisque.client:\n",
      "\n",
      "get_job(queues, timeout=None, count=None, nohang=False, withcounters=False) method of pydisque.client.Client instance\n",
      "    Return some number of jobs from specified queues.\n",
      "    \n",
      "    GETJOB [NOHANG] [TIMEOUT <ms-timeout>] [COUNT <count>] [WITHCOUNTERS] FROM\n",
      "        queue1 queue2 ... queueN\n",
      "    \n",
      "    :param queues: name of queues\n",
      "    \n",
      "    :returns: list of tuple(job_id, queue_name, job), tuple(job_id, queue_name, job, nacks, additional_deliveries) or empty list\n",
      "    :rtype: list\n",
      "\n"
     ]
    }
   ],
   "source": [
    "help(client.get_job)"
   ]
  },
  {
   "cell_type": "code",
   "execution_count": 10,
   "metadata": {},
   "outputs": [
    {
     "name": "stdout",
     "output_type": "stream",
     "text": [
      "Help on method qscan in module pydisque.client:\n",
      "\n",
      "qscan(cursor=0, count=None, busyloop=None, minlen=None, maxlen=None, importrate=None) method of pydisque.client.Client instance\n",
      "    Iterate all the existing queues in the local node.\n",
      "    \n",
      "    :param count: An hint about how much work to do per iteration.\n",
      "    :param busyloop: Block and return all the elements in a busy loop.\n",
      "    :param minlen: Don't return elements with less than count jobs queued.\n",
      "    :param maxlen: Don't return elements with more than count jobs queued.\n",
      "    :param importrate: Only return elements with an job import rate\n",
      "                    (from other nodes) >= rate.\n",
      "\n"
     ]
    }
   ],
   "source": [
    "help(client.qscan)"
   ]
  },
  {
   "cell_type": "code",
   "execution_count": 11,
   "metadata": {},
   "outputs": [
    {
     "data": {
      "text/plain": [
       "[b'0',\n",
       " [b'garencieres.OrderHistory',\n",
       "  b'ezStatus_SetOrderItemStatusBatch',\n",
       "  b'crontab-chaplin:SyncSntShipmentStatusToErp',\n",
       "  b'eltreum.OutSourcingReturn',\n",
       "  b'crontab-shadow:syncTH711SubPkgs',\n",
       "  b'crontab-flashsales_loadFromMongo',\n",
       "  b'crontab-ezOrder:CrontabSyncOrderBill',\n",
       "  b'garencieres.InventoryNew',\n",
       "  b'crontab-declaration.category',\n",
       "  b'Shake_SaveCalcResult_Queue',\n",
       "  b'postmanasync.PostNotify',\n",
       "  b'crontab-chaplin:syncpkg',\n",
       "  b'tong.WalletNotifyForOrder',\n",
       "  b'crontab-metamorphosis:ordercheck_notifymail',\n",
       "  b'eltreum.SyncPurchasedOrders',\n",
       "  b'garencieres.SkuStatus',\n",
       "  b'crontab-nadesico:cancelPrimeBill',\n",
       "  b'crontab-chaplin:SyncCollectcoStatusToErp',\n",
       "  b'crontab-mithril:SyncDeliveryOrderToAls',\n",
       "  b'crontab-chaplin:SyncYuantongExpressToErp',\n",
       "  b'collectco_sync_sub_pkg_queue',\n",
       "  b'garencieres.Stockin',\n",
       "  b'crontab-mithril:sync711shops',\n",
       "  b'purchasecheck.UpdateRefund',\n",
       "  b'mq_ezOrder',\n",
       "  b'garencieres.RollbackOrder',\n",
       "  b'crontab-ezOrder:test',\n",
       "  b'tong.WalletNotifyForAMALGAM',\n",
       "  b'parcelforce.NotifyPickUp',\n",
       "  b'crontab-delivery:syncAllArrivedPackageJob',\n",
       "  b'pantos_dispatch_queue',\n",
       "  b'hedwig.AddMqErrorLog',\n",
       "  b'purchase_pending_allocation_with_region',\n",
       "  b'shadowaccount.Login',\n",
       "  b'Shake_GroupStartNotify_Queue',\n",
       "  b'crontab-topic',\n",
       "  b'crontab-shadow:syncTH711Pkgs',\n",
       "  b'eltreum.SetEzStatusInEltreum',\n",
       "  b'crontab-delivery:syncpkg',\n",
       "  b'crontab-ezorder:ezorderutil_clear_unpaid_bill',\n",
       "  b'crontab-mithril:SyncS4MDeliveryOrderToAls',\n",
       "  b'garencieres.UpdateOrderStatus',\n",
       "  b'crontab-timer',\n",
       "  b'ticket.CompleteTicket',\n",
       "  b'garencieres.SyncOrder',\n",
       "  b'aramex_package_queue',\n",
       "  b'eltreum.SendToOutsourcing',\n",
       "  b'crontab-delivery:ezcollectionarrivaltrigger',\n",
       "  b'crontab-mithril:SyncCollectcoStationToExpress',\n",
       "  b'ugm.GroupDidReady.11',\n",
       "  b'notify_queue',\n",
       "  b'ugm.GroupDidReady.1',\n",
       "  b'crontab-nadesico:autoSyncPrimeBill',\n",
       "  b'purchasecheck.UpdateOffset',\n",
       "  b'crontab-buzz:synccustomernotification',\n",
       "  b'dhl_express_package_queue',\n",
       "  b'ugm.GroupDidReady.2',\n",
       "  b'crontab-metamorphosis:ordercheck_checkpaymentpaid']]"
      ]
     },
     "execution_count": 11,
     "metadata": {},
     "output_type": "execute_result"
    }
   ],
   "source": [
    "client.qscan()"
   ]
  },
  {
   "cell_type": "code",
   "execution_count": 45,
   "metadata": {},
   "outputs": [
    {
     "name": "stdout",
     "output_type": "stream",
     "text": [
      "b'tong.WalletNotifyForOrder' 23\n",
      "b'collectco_sync_sub_pkg_queue' 2\n",
      "b'parcelforce.NotifyPickUp' 2\n",
      "b'hedwig.AddMqErrorLog' 5559\n",
      "b'shadowaccount.Login' 1\n",
      "b'crontab-topic' 109\n",
      "b'crontab-timer' 22\n",
      "b'aramex_package_queue' 350\n",
      "b'ugm.GroupDidReady.11' 1\n",
      "b'notify_queue' 1\n",
      "b'ugm.GroupDidReady.1' 51\n",
      "b'dhl_express_package_queue' 59\n",
      "b'ugm.GroupDidReady.2' 42\n"
     ]
    }
   ],
   "source": [
    "qlist = client.qscan()[1]\n",
    "for n in qlist:\n",
    "    if client.qlen(n) != 0: \n",
    "        print('{} {}'.format(n,client.qlen(n)))"
   ]
  },
  {
   "cell_type": "code",
   "execution_count": null,
   "metadata": {},
   "outputs": [],
   "source": []
  }
 ],
 "metadata": {
  "kernelspec": {
   "display_name": "Python 3",
   "language": "python",
   "name": "python3"
  },
  "language_info": {
   "codemirror_mode": {
    "name": "ipython",
    "version": 3
   },
   "file_extension": ".py",
   "mimetype": "text/x-python",
   "name": "python",
   "nbconvert_exporter": "python",
   "pygments_lexer": "ipython3",
   "version": "3.6.3"
  }
 },
 "nbformat": 4,
 "nbformat_minor": 2
}

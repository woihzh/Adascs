{
 "cells": [
  {
   "cell_type": "code",
   "execution_count": 30,
   "metadata": {},
   "outputs": [
    {
     "name": "stdout",
     "output_type": "stream",
     "text": [
      "653\n",
      "blazer-zuul\n",
      "zuul\n"
     ]
    }
   ],
   "source": [
    "import json\n",
    "import gitlab\n",
    "\n",
    "conf_info = '/Users/mac/.config/py_conf/conf'\n",
    "\n",
    "# 加载配置文件,获取 gitlab api 认证\n",
    "try:\n",
    "    with open(conf_info, 'r') as f:\n",
    "        results = json.load(f)\n",
    "        url = results['gitlab']['url']\n",
    "        token = results['gitlab']['token']\n",
    "except FileNotFoundError as e:\n",
    "    print('No such file or directory: %s' % conf_info)\n",
    "\n",
    "\n",
    "gl = gitlab.Gitlab(url, token)\n",
    "\n",
    "# pro_page = gl.projects.list()  # 获取第一页projects\n",
    "# print(pro_page)\n",
    "\n",
    "# pro_all = gl.projects.list(all=True) # 获取所有的项目\n",
    "# print(pro_all)\n",
    "\n",
    "\n",
    "pro_list = []\n",
    "for p in gl.projects.list(all=True, as_list=False):\n",
    "    pro_name = p.name\n",
    "#     print(pro_name) \n",
    "    pro_list.append(pro_name)\n",
    "print(len(pro_list))\n",
    "\n",
    "\n",
    "# 查找项目\n",
    "for p in gl.projects.list(search='zuul'):\n",
    "    print(p.name)\n",
    "\n",
    "# 获取公开的项目\n",
    "print(gl.projects.list(visbility='public'))  # public, internal or private"
   ]
  },
  {
   "cell_type": "code",
   "execution_count": null,
   "metadata": {},
   "outputs": [],
   "source": []
  },
  {
   "cell_type": "code",
   "execution_count": null,
   "metadata": {},
   "outputs": [],
   "source": []
  }
 ],
 "metadata": {
  "kernelspec": {
   "display_name": "Python 3",
   "language": "python",
   "name": "python3"
  },
  "language_info": {
   "codemirror_mode": {
    "name": "ipython",
    "version": 3
   },
   "file_extension": ".py",
   "mimetype": "text/x-python",
   "name": "python",
   "nbconvert_exporter": "python",
   "pygments_lexer": "ipython3",
   "version": "3.6.3"
  }
 },
 "nbformat": 4,
 "nbformat_minor": 2
}

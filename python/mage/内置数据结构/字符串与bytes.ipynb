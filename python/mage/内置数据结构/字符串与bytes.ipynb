{
 "cells": [
  {
   "cell_type": "markdown",
   "metadata": {},
   "source": [
    "* str 是文本序列\n",
    "* bytes 是字节序列\n",
    "\n",
    "**两者最大的区别：**\n",
    "1. 文本是有编码(utf-8, gbk...)\n",
    "2. 字节没有编码\n",
    "3. 文本的编码指的是字符任何实用化字节表示  \n",
    "python3 字符串默认使用utf-8编码"
   ]
  },
  {
   "cell_type": "code",
   "execution_count": null,
   "metadata": {},
   "outputs": [],
   "source": []
  }
 ],
 "metadata": {
  "kernelspec": {
   "display_name": "Python 3",
   "language": "python",
   "name": "python3"
  },
  "language_info": {
   "codemirror_mode": {
    "name": "ipython",
    "version": 3
   },
   "file_extension": ".py",
   "mimetype": "text/x-python",
   "name": "python",
   "nbconvert_exporter": "python",
   "pygments_lexer": "ipython3",
   "version": "3.6.3"
  }
 },
 "nbformat": 4,
 "nbformat_minor": 2
}

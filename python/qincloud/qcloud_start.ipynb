{
 "cells": [
  {
   "cell_type": "code",
   "execution_count": 9,
   "metadata": {},
   "outputs": [
    {
     "name": "stdout",
     "output_type": "stream",
     "text": [
      "200\n",
      "[]\n"
     ]
    }
   ],
   "source": [
    "import json\n",
    "from qingstor.sdk.service.qingstor import QingStor\n",
    "from qingstor.sdk.config import Config\n",
    "\n",
    "# 认证配置文件\n",
    "conf_info = '/Users/mac/.config/py_conf/conf'\n",
    "\n",
    "# 加载配置文件\n",
    "try:\n",
    "    with open(conf_info, 'r') as f:\n",
    "        results = json.load(f)\n",
    "        secretId = results['qincloud']['Id']\n",
    "        secretKey = results['qincloud']['Key']\n",
    "except FileNotFoundError as e:\n",
    "    print('No such file or directory: %s' % conf_info)\n",
    "\n",
    "config = Config(secretId, secretKey)\n",
    "qingstor = QingStor(config)\n",
    "\n",
    "# List all buckets.\n",
    "# output = qingstor.list_buckets()\n",
    "\n",
    "# Print HTTP status code.\n",
    "print(output.status_code)\n",
    "\n",
    "# Print the buckets.\n",
    "print(output['buckets'])\n",
    "\n"
   ]
  },
  {
   "cell_type": "code",
   "execution_count": null,
   "metadata": {},
   "outputs": [],
   "source": []
  }
 ],
 "metadata": {
  "kernelspec": {
   "display_name": "Python 3",
   "language": "python",
   "name": "python3"
  },
  "language_info": {
   "codemirror_mode": {
    "name": "ipython",
    "version": 3
   },
   "file_extension": ".py",
   "mimetype": "text/x-python",
   "name": "python",
   "nbconvert_exporter": "python",
   "pygments_lexer": "ipython3",
   "version": "3.6.3"
  }
 },
 "nbformat": 4,
 "nbformat_minor": 2
}

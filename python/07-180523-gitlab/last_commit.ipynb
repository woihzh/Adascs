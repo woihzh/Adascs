{
 "cells": [
  {
   "cell_type": "code",
   "execution_count": null,
   "metadata": {},
   "outputs": [],
   "source": [
    "#!/usr/bin/python\n",
    "\n",
    "import subprocess\n",
    "import re\n",
    "from optparse import OptionParser\n",
    "\n",
    "def git_version():\n",
    "    p = subprocess.Popen([\"git\", \"log\" , '-1', '--date=iso'], stdout=subprocess.PIPE)\n",
    "    out, err = p.communicate()\n",
    "    m = re.search('\\d{4}-\\d{2}-\\d{2}\\s+\\d{2}:\\d{2}:\\d{2}', out)\n",
    "    return m.group(0)\n",
    "\n",
    "usage = \"usage: %prog -f filepath\"\n",
    "parser = OptionParser(usage=usage)\n",
    "parser.add_option(\"-f\", default='version.py')\n",
    "(options, args) = parser.parse_args()\n",
    "path = options.f\n",
    "with open(path, 'w+') as f:\n",
    "    f.write(git_version())"
   ]
  }
 ],
 "metadata": {
  "kernelspec": {
   "display_name": "Python 3",
   "language": "python",
   "name": "python3"
  },
  "language_info": {
   "codemirror_mode": {
    "name": "ipython",
    "version": 3
   },
   "file_extension": ".py",
   "mimetype": "text/x-python",
   "name": "python",
   "nbconvert_exporter": "python",
   "pygments_lexer": "ipython3",
   "version": "3.6.3"
  }
 },
 "nbformat": 4,
 "nbformat_minor": 2
}

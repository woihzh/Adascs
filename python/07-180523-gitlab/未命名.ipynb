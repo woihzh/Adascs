{
 "cells": [
  {
   "cell_type": "code",
   "execution_count": 1,
   "metadata": {},
   "outputs": [],
   "source": [
    "import sys\n",
    "import json\n",
    "import gitlab\n",
    "import random\n",
    "import string\n",
    "\n",
    "DOMAIN = 'ezbuy.com'\n",
    "\n",
    "# 加载配置文件,获取 gitlab api 认证\n",
    "conf_info = '/Users/mac/.config/py_conf/conf'\n",
    "try:\n",
    "    with open(conf_info, 'r') as f:\n",
    "        results = json.load(f)\n",
    "        url = results['gitlab']['url']\n",
    "        token = results['gitlab']['token']\n",
    "except FileNotFoundError as e:\n",
    "    print('No such file or directory: %s' % conf_info)\n",
    "\n",
    "gl = gitlab.Gitlab(url, token)"
   ]
  },
  {
   "cell_type": "code",
   "execution_count": 2,
   "metadata": {},
   "outputs": [
    {
     "data": {
      "text/plain": [
       "[]"
      ]
     },
     "execution_count": 2,
     "metadata": {},
     "output_type": "execute_result"
    }
   ],
   "source": [
    "gl.hooks.list()"
   ]
  },
  {
   "cell_type": "code",
   "execution_count": null,
   "metadata": {},
   "outputs": [],
   "source": []
  }
 ],
 "metadata": {
  "kernelspec": {
   "display_name": "Python 3",
   "language": "python",
   "name": "python3"
  },
  "language_info": {
   "codemirror_mode": {
    "name": "ipython",
    "version": 3
   },
   "file_extension": ".py",
   "mimetype": "text/x-python",
   "name": "python",
   "nbconvert_exporter": "python",
   "pygments_lexer": "ipython3",
   "version": "3.6.3"
  }
 },
 "nbformat": 4,
 "nbformat_minor": 2
}

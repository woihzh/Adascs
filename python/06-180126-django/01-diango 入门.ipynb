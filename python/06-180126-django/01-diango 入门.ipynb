{
 "cells": [
  {
   "cell_type": "code",
   "execution_count": 1,
   "metadata": {},
   "outputs": [
    {
     "name": "stdout",
     "output_type": "stream",
     "text": [
      "1.11.3\n"
     ]
    }
   ],
   "source": [
    "import django\n",
    "print(django.__version__)"
   ]
  },
  {
   "cell_type": "markdown",
   "metadata": {},
   "source": [
    "1. 巩固学习计划：\n",
    "\n",
    "后端：\n",
    "django\n",
    "DRF\n",
    "\n",
    "前端：\n",
    "vue\n",
    "element-ui\n",
    "\n",
    "项目：\n",
    "cmdb\n",
    "zabbix\n",
    "ansible\n",
    "sql审核"
   ]
  },
  {
   "cell_type": "markdown",
   "metadata": {},
   "source": [
    "2. 环境\n",
    "(ven363) ➜  venv which python3\n",
    "/Users/mac/venv/ven363/bin/python3\n",
    "(ven363) ➜  venv python -V\n",
    "Python 3.6.3\n",
    "(ven363) ➜  venv django-admin startproject ops\n",
    "\n",
    "3. HttpRequest 对象\n",
    "```\n",
    "<WSGIRequest: GET '/dashboard'>\n",
    "['COOKIES', 'FILES', 'GET', 'META', 'POST', '_encoding', '_get_post', '_get_raw_host', '_get_scheme', '_initialize_handlers', '_load_post_and_files', '_mark_post_parse_error', '_messages', '_post_parse_error', '_read_started', '_set_post', '_stream', '_upload_handlers', 'body', 'build_absolute_uri', 'close', 'content_params', 'content_type', 'csrf_processing_done', 'encoding', 'environ', 'get_full_path', 'get_host', 'get_port', 'get_raw_uri', 'get_signed_cookie', 'is_ajax', 'is_secure', 'method', 'parse_file_upload', 'path', 'path_info', 'read', 'readline', 'readlines', 'resolver_match', 'scheme', 'session', 'upload_handlers', 'user', 'xreadlines']\n",
    "```   \n",
    "4. HttpResponse对象\n",
    " \n",
    "\n",
    "5. 视图返回json格式\n",
    "content_typr='application/json'\n",
    "\n",
    "JsonResponse 和 HttpResponse 的区别，看源码\n",
    "\n",
    "6. 加载模版\n",
    "原始的方式：\n",
    "render \n",
    "\n",
    "封装之后的方式：\n",
    "\n",
    "7. GET POST请求\n",
    "\n",
    "8. QueryDict\n",
    "get\n",
    "getlist\n",
    "\n",
    "9. 同步数据库\n",
    "python mange.py dbshell\n",
    "\n",
    "10. 创建用户,修改密码\n",
    "User对象\n",
    "createsuperuser\n",
    "\n",
    "11. 用户登陆\n",
    "get\n",
    "post\n",
    "delete 的数据是怎么来的，使用querydict。他的数据是存储在boby的\n",
    " \n",
    "今天总结：\n",
    "1. 环境搭建\n",
    "2. 创建django项目\n",
    "3. 创建app\n",
    "4. 函数视图的定义\n",
    "   - 就是普通的函数\n",
    "   - 接收一个HttpRequest的实例作为第一个参数，然后返回一个HttpRespone的实例\n",
    "5. HttpReuest, HttpRespose, JsonRespose\n",
    "6. 用户登陆的过程\n",
    "7. 重要的模块\n",
    "from django.http import HttpResponse\n",
    "from django.conf.urls import url, incloud\n",
    "from django.contrib.auth import login, logout, authenticate\n",
    "from django.contrib.auth.models import User"
   ]
  },
  {
   "cell_type": "markdown",
   "metadata": {},
   "source": []
  }
 ],
 "metadata": {
  "kernelspec": {
   "display_name": "Python 3",
   "language": "python",
   "name": "python3"
  },
  "language_info": {
   "codemirror_mode": {
    "name": "ipython",
    "version": 3
   },
   "file_extension": ".py",
   "mimetype": "text/x-python",
   "name": "python",
   "nbconvert_exporter": "python",
   "pygments_lexer": "ipython3",
   "version": "3.6.3"
  }
 },
 "nbformat": 4,
 "nbformat_minor": 2
}
